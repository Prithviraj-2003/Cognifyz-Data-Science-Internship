{
 "cells": [
  {
   "cell_type": "markdown",
   "id": "665e863d-c544-4b6a-8331-2b4d9357b8a6",
   "metadata": {},
   "source": [
    "Rask 1\n",
    "Task: Table Booking and Online Delivery\\\n",
    "\n",
    "1] Determine the percentage of restaurants thatoffer table booking and online delivery.\n",
    "\n",
    "2] Compare the average ratings of restaurantswith table booking and those without.\n",
    "\n",
    "3] Analyze the availability of online deliveryamong restaurants with different price ranges."
   ]
  },
  {
   "cell_type": "code",
   "execution_count": 1,
   "id": "020f0e3c-56d6-4a47-af08-e167fd5e74fd",
   "metadata": {},
   "outputs": [],
   "source": [
    "import pandas as pd"
   ]
  },
  {
   "cell_type": "code",
   "execution_count": 8,
   "id": "d13d21c5-cd27-4ea5-a459-8722de659334",
   "metadata": {},
   "outputs": [],
   "source": [
    "df= pd.read_csv(r\"C:\\Users\\HP\\OneDrive\\Desktop\\Prithviraj\\internship\\Internship\\Restaurant.csv\")"
   ]
  },
  {
   "cell_type": "code",
   "execution_count": 4,
   "id": "cdaafb29-e8d0-47bb-b293-75e41143abcf",
   "metadata": {},
   "outputs": [
    {
     "name": "stdout",
     "output_type": "stream",
     "text": [
      "Percentage of restaurants offering table booking: 12.12%\n",
      "Percentage of restaurants offering online delivery: 25.66%\n"
     ]
    }
   ],
   "source": [
    "table_booking = df[df['Has Table booking'] == 'Yes']\n",
    "percentage_table_booking = (len(table_booking) / len(df)) * 100\n",
    "\n",
    "print(\"Percentage of restaurants offering table booking: {:.2f}%\".format(percentage_table_booking))\n",
    "\n",
    "online_delivery = df[df['Has Online delivery'] == 'Yes']\n",
    "percentage_online_delivery = (len(online_delivery) / len(df)) * 100\n",
    "\n",
    "print(\"Percentage of restaurants offering online delivery: {:.2f}%\".format(percentage_online_delivery))"
   ]
  },
  {
   "cell_type": "code",
   "execution_count": 5,
   "id": "631d4c1c-6379-43c2-a2f2-5c8125126d36",
   "metadata": {},
   "outputs": [
    {
     "name": "stdout",
     "output_type": "stream",
     "text": [
      "Average rating for restaurants with table booking: 3.44\n",
      "Average rating for restaurants without table booking: 2.56\n"
     ]
    }
   ],
   "source": [
    "with_booking = df[df['Has Table booking'] == 'Yes']['Aggregate rating'].mean()\n",
    "\n",
    "without_booking = df[df['Has Table booking'] == 'No']['Aggregate rating'].mean()\n",
    "\n",
    "print(\"Average rating for restaurants with table booking: {:.2f}\".format(with_booking))\n",
    "print(\"Average rating for restaurants without table booking: {:.2f}\".format(without_booking))\n"
   ]
  },
  {
   "cell_type": "code",
   "execution_count": 7,
   "id": "d5933988-8da8-4c83-9ba2-73daaa750adb",
   "metadata": {},
   "outputs": [
    {
     "name": "stdout",
     "output_type": "stream",
     "text": [
      "Percentage of restaurants offering online delivery by price range:\n",
      "Has Online delivery         No        Yes\n",
      "Price range                              \n",
      "1                    84.225923  15.774077\n",
      "2                    58.689367  41.310633\n",
      "3                    70.809659  29.190341\n",
      "4                    90.955631   9.044369\n"
     ]
    }
   ],
   "source": [
    "online_delivery_percentage = df.groupby('Price range')['Has Online delivery'].value_counts(normalize=True).unstack().fillna(0) * 100\n",
    "\n",
    "print(\"Percentage of restaurants offering online delivery by price range:\")\n",
    "print(online_delivery_percentage)"
   ]
  },
  {
   "cell_type": "code",
   "execution_count": null,
   "id": "f43ea500-e408-4cca-bc9c-32ab84d9bb60",
   "metadata": {},
   "outputs": [],
   "source": []
  }
 ],
 "metadata": {
  "kernelspec": {
   "display_name": "Python 3 (ipykernel)",
   "language": "python",
   "name": "python3"
  },
  "language_info": {
   "codemirror_mode": {
    "name": "ipython",
    "version": 3
   },
   "file_extension": ".py",
   "mimetype": "text/x-python",
   "name": "python",
   "nbconvert_exporter": "python",
   "pygments_lexer": "ipython3",
   "version": "3.12.1"
  }
 },
 "nbformat": 4,
 "nbformat_minor": 5
}
