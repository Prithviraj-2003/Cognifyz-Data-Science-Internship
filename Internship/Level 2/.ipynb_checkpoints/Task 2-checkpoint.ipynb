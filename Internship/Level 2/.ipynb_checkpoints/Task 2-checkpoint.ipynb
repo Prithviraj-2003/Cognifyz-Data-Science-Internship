{
 "cells": [
  {
   "cell_type": "markdown",
   "id": "3587ec03-7de7-461c-adf6-c6dbd7231c80",
   "metadata": {},
   "source": [
    "Task 2\n",
    "Task: Price Range Analysis\n",
    "\n",
    "1] Determine the most common price range among all the restaurants.\n",
    "\n",
    "2] Calculate the average rating for each price range.\n",
    "\n",
    "3] Identify the color that represents the highest average rating among different"
   ]
  },
  {
   "cell_type": "code",
   "execution_count": 2,
   "id": "78282b71-a18d-40b0-8628-0b0f536dcaee",
   "metadata": {},
   "outputs": [],
   "source": [
    "import pandas as pd\n"
   ]
  },
  {
   "cell_type": "code",
   "execution_count": 9,
   "id": "0e9823bf-978c-4d29-95e2-e937ec4470e2",
   "metadata": {},
   "outputs": [],
   "source": [
    "df= pd.read_csv(r\"C:\\Users\\HP\\OneDrive\\Desktop\\Prithviraj\\internship\\Internship\\Restaurant.csv\")"
   ]
  },
  {
   "cell_type": "code",
   "execution_count": 4,
   "id": "afafe7ef-cafb-48e7-afb3-b08062f4005c",
   "metadata": {},
   "outputs": [
    {
     "name": "stdout",
     "output_type": "stream",
     "text": [
      "The most common price range among all the restaurants is: 1\n"
     ]
    }
   ],
   "source": [
    "common_price_range = df['Price range'].value_counts().idxmax()\n",
    "\n",
    "print(\"The most common price range among all the restaurants is:\",common_price_range)"
   ]
  },
  {
   "cell_type": "code",
   "execution_count": 7,
   "id": "72e1b684-22ae-4bd8-96ca-b27a58b330d9",
   "metadata": {},
   "outputs": [
    {
     "name": "stdout",
     "output_type": "stream",
     "text": [
      "Average rating for each price range:\n",
      "Price range\n",
      "1    1.999887\n",
      "2    2.941054\n",
      "3    3.683381\n",
      "4    3.817918\n",
      "Name: Aggregate rating, dtype: float64\n"
     ]
    }
   ],
   "source": [
    "average_rating = df.groupby('Price range')['Aggregate rating'].mean()\n",
    "\n",
    "print(\"Average rating for each price range:\")\n",
    "print(average_rating)"
   ]
  },
  {
   "cell_type": "code",
   "execution_count": 8,
   "id": "adff072e-e0ab-4004-a536-734d6e8f1559",
   "metadata": {},
   "outputs": [
    {
     "name": "stdout",
     "output_type": "stream",
     "text": [
      "Color representing the highest average rating among different price ranges: Rating color\n",
      "Dark Green    (4, Dark Green)\n",
      "Green              (4, Green)\n",
      "Orange            (4, Orange)\n",
      "Red                  (3, Red)\n",
      "White              (1, White)\n",
      "Yellow            (3, Yellow)\n",
      "Name: Aggregate rating, dtype: object\n"
     ]
    }
   ],
   "source": [
    "average_rating_color_and_price = df.groupby(['Price range', 'Rating color'])['Aggregate rating'].mean()\n",
    "\n",
    "# Find the color with the highest average rating across all price ranges\n",
    "highest_average_rating_color = average_rating_color_and_price.groupby('Rating color').idxmax()\n",
    "\n",
    "print(\"Color representing the highest average rating among different price ranges:\", highest_average_rating_color)\n"
   ]
  },
  {
   "cell_type": "code",
   "execution_count": null,
   "id": "0851965b-37cf-4fe4-962f-10637a8f2d36",
   "metadata": {},
   "outputs": [],
   "source": []
  }
 ],
 "metadata": {
  "kernelspec": {
   "display_name": "Python 3 (ipykernel)",
   "language": "python",
   "name": "python3"
  },
  "language_info": {
   "codemirror_mode": {
    "name": "ipython",
    "version": 3
   },
   "file_extension": ".py",
   "mimetype": "text/x-python",
   "name": "python",
   "nbconvert_exporter": "python",
   "pygments_lexer": "ipython3",
   "version": "3.12.1"
  }
 },
 "nbformat": 4,
 "nbformat_minor": 5
}
